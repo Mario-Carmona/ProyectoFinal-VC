{
  "nbformat": 4,
  "nbformat_minor": 0,
  "metadata": {
    "colab": {
      "name": "ProyectoFinal.ipynb",
      "provenance": []
    },
    "kernelspec": {
      "name": "python3",
      "display_name": "Python 3"
    },
    "language_info": {
      "name": "python"
    }
  },
  "cells": [
    {
      "cell_type": "markdown",
      "source": [
        "[![Open In Colab](https://colab.research.google.com/assets/colab-badge.svg)](https://colab.research.google.com/github/Mario-Carmona/ProyectoFinal-VC/blob/main/ProyectoFinal.ipynb)"
      ],
      "metadata": {
        "id": "mlk22Pcv8B7R"
      }
    },
    {
      "cell_type": "markdown",
      "source": [
        "# **Proyecto Final**"
      ],
      "metadata": {
        "id": "txyYpKgN5e0w"
      }
    },
    {
      "cell_type": "markdown",
      "source": [
        "## **Autores:**\n",
        "\n",
        "\n",
        "\n",
        "*   [Aparicio Martos, Francisco José](https://github.com/pacoapm)\n",
        "*   [Carmona Segovia, Mario](https://github.com/Mario-Carmona)\n",
        "\n"
      ],
      "metadata": {
        "id": "FADtX3BH8dZd"
      }
    },
    {
      "cell_type": "markdown",
      "source": [
        "## **Código:**"
      ],
      "metadata": {
        "id": "gTq2z67L9Yr8"
      }
    },
    {
      "cell_type": "code",
      "source": [
        ""
      ],
      "metadata": {
        "id": "Q00XO8fg9aVS"
      },
      "execution_count": null,
      "outputs": []
    }
  ]
}