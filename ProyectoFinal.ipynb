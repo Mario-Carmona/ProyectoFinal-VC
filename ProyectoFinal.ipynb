{
  "nbformat": 4,
  "nbformat_minor": 0,
  "metadata": {
    "colab": {
      "name": "ProyectoFinal.ipynb",
      "provenance": []
    },
    "kernelspec": {
      "name": "python3",
      "display_name": "Python 3"
    },
    "language_info": {
      "name": "python"
    }
  },
  "cells": [
    {
      "cell_type": "markdown",
      "source": [
        "# **Proyecto Final**"
      ],
      "metadata": {
        "id": "txyYpKgN5e0w"
      }
    },
    {
      "cell_type": "markdown",
      "source": [
        "\\u003ca href=\\\"https://colab.research.google.com/github/Mario-Carmona/ProyectoFinal-VC/blob/main/ProyectoFinal.ipynb#scrollTo=hZxNTZOA2V-B\\\" target=\\\"_parent\\\"\\u003e\\u003cimg src=\\\"https://colab.research.google.com/assets/colab-badge.svg\\\" alt=\\\"Open In Colab\\\"/\\u003e\\u003c/a\\u003e\\n"
      ],
      "metadata": {
        "id": "w2QXyz3m6tdE"
      }
    },
    {
      "cell_type": "code",
      "execution_count": null,
      "metadata": {
        "id": "hZxNTZOA2V-B"
      },
      "outputs": [],
      "source": [
        ""
      ]
    }
  ]
}